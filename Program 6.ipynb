{
 "cells": [
  {
   "cell_type": "markdown",
   "id": "3a110180",
   "metadata": {},
   "source": [
    "### 6. Consider the movie dataset provided in the previous question. Perform the given operation using PySpark\n",
    "### • Find the most active users (users who have rated the most movies).\n",
    "### • Sort the movies name in alphabetic order\n",
    "### • Calculate the average rating per genre."
   ]
  },
  {
   "cell_type": "code",
   "execution_count": 1,
   "id": "70e74cf1",
   "metadata": {},
   "outputs": [],
   "source": [
    "from pyspark.sql import SparkSession\n",
    "from pyspark.sql.functions import col, split, explode"
   ]
  },
  {
   "cell_type": "code",
   "execution_count": 2,
   "id": "3f139900",
   "metadata": {},
   "outputs": [],
   "source": [
    "spark = SparkSession.builder.appName(\"Program 6\").getOrCreate()"
   ]
  },
  {
   "cell_type": "code",
   "execution_count": 3,
   "id": "d1557a25",
   "metadata": {},
   "outputs": [],
   "source": [
    "movies_df=spark.read.csv(\"Datasets/Movies/movies.csv\", header=True, inferSchema=True)"
   ]
  },
  {
   "cell_type": "code",
   "execution_count": 4,
   "id": "487bbd4f",
   "metadata": {},
   "outputs": [],
   "source": [
    "ratings_df=spark.read.csv(\"Datasets/Movies/ratings.csv\", header=True, inferSchema=True)"
   ]
  },
  {
   "cell_type": "code",
   "execution_count": 5,
   "id": "78b179fd",
   "metadata": {},
   "outputs": [
    {
     "name": "stdout",
     "output_type": "stream",
     "text": [
      "+-------+--------------------+--------------------+\n",
      "|movieId|               title|              genres|\n",
      "+-------+--------------------+--------------------+\n",
      "|      1|    Toy Story (1995)|Adventure|Animati...|\n",
      "|      2|      Jumanji (1995)|Adventure|Childre...|\n",
      "|      3|Grumpier Old Men ...|      Comedy|Romance|\n",
      "|      4|Waiting to Exhale...|Comedy|Drama|Romance|\n",
      "|      5|Father of the Bri...|              Comedy|\n",
      "+-------+--------------------+--------------------+\n",
      "only showing top 5 rows\n",
      "\n"
     ]
    }
   ],
   "source": [
    "movies_df.show(5)"
   ]
  },
  {
   "cell_type": "code",
   "execution_count": 6,
   "id": "8b271c8f",
   "metadata": {},
   "outputs": [
    {
     "name": "stdout",
     "output_type": "stream",
     "text": [
      "+------+-------+------+---------+\n",
      "|userId|movieId|rating|timestamp|\n",
      "+------+-------+------+---------+\n",
      "|     1|      1|   4.0|964982703|\n",
      "|     1|      3|   4.0|964981247|\n",
      "|     1|      6|   4.0|964982224|\n",
      "|     1|     47|   5.0|964983815|\n",
      "|     1|     50|   5.0|964982931|\n",
      "+------+-------+------+---------+\n",
      "only showing top 5 rows\n",
      "\n"
     ]
    }
   ],
   "source": [
    "ratings_df.show(5)"
   ]
  },
  {
   "cell_type": "code",
   "execution_count": 7,
   "id": "16a506f8",
   "metadata": {},
   "outputs": [],
   "source": [
    "movies_df.createOrReplaceTempView(\"movies\")"
   ]
  },
  {
   "cell_type": "code",
   "execution_count": 8,
   "id": "a18340de",
   "metadata": {},
   "outputs": [],
   "source": [
    "ratings_df.createOrReplaceTempView(\"ratings\")"
   ]
  },
  {
   "cell_type": "markdown",
   "id": "4b18cdf5",
   "metadata": {},
   "source": [
    "#### • Find the most active users (users who have rated the most movies)."
   ]
  },
  {
   "cell_type": "code",
   "execution_count": 9,
   "id": "71026660",
   "metadata": {},
   "outputs": [],
   "source": [
    "query1=\"\"\"\n",
    "        Select userId, count(rating) as Number_of_Ratings\n",
    "        from ratings\n",
    "        group by userId\n",
    "        order by Number_of_Ratings desc\n",
    "       \"\"\""
   ]
  },
  {
   "cell_type": "code",
   "execution_count": 10,
   "id": "8bd8b701",
   "metadata": {},
   "outputs": [],
   "source": [
    "most_active_users=spark.sql(query1)"
   ]
  },
  {
   "cell_type": "code",
   "execution_count": 11,
   "id": "13e6064b",
   "metadata": {},
   "outputs": [
    {
     "name": "stdout",
     "output_type": "stream",
     "text": [
      "Most Active Users\n",
      "+------+-----------------+\n",
      "|userId|Number_of_Ratings|\n",
      "+------+-----------------+\n",
      "|   414|             2698|\n",
      "|   599|             2478|\n",
      "|   474|             2108|\n",
      "|   448|             1864|\n",
      "|   274|             1346|\n",
      "+------+-----------------+\n",
      "only showing top 5 rows\n",
      "\n"
     ]
    }
   ],
   "source": [
    "print(\"Most Active Users\")\n",
    "most_active_users.show(5)"
   ]
  },
  {
   "cell_type": "markdown",
   "id": "f31ca82b",
   "metadata": {},
   "source": [
    "#### • Sort the movies name in alphabetic order"
   ]
  },
  {
   "cell_type": "code",
   "execution_count": 12,
   "id": "96d6fa5f",
   "metadata": {},
   "outputs": [],
   "source": [
    "query2= \"\"\"\n",
    "        Select * from movies\n",
    "        order by title\n",
    "        \"\"\""
   ]
  },
  {
   "cell_type": "code",
   "execution_count": 13,
   "id": "f2089c9a",
   "metadata": {},
   "outputs": [],
   "source": [
    "sorted_movies=spark.sql(query2)"
   ]
  },
  {
   "cell_type": "code",
   "execution_count": 14,
   "id": "4c6a34b6",
   "metadata": {},
   "outputs": [
    {
     "name": "stdout",
     "output_type": "stream",
     "text": [
      "Movies sorted alphabetically\n",
      "+-------+--------------------+--------------------+\n",
      "|movieId|               title|              genres|\n",
      "+-------+--------------------+--------------------+\n",
      "|   7789|\"11'09\"\"01 - Sept...|               Drama|\n",
      "| 117867|          '71 (2014)|Action|Drama|Thri...|\n",
      "|  97757|'Hellboy': The Se...|Action|Adventure|...|\n",
      "|  26564|'Round Midnight (...|       Drama|Musical|\n",
      "|  27751| 'Salem's Lot (2004)|Drama|Horror|Myst...|\n",
      "|    779|'Til There Was Yo...|       Drama|Romance|\n",
      "| 149380|'Tis the Season f...|             Romance|\n",
      "|   2072|  'burbs, The (1989)|              Comedy|\n",
      "|   3112|'night Mother (1986)|               Drama|\n",
      "|  69757|(500) Days of Sum...|Comedy|Drama|Romance|\n",
      "|   8169|*batteries not in...|Children|Comedy|F...|\n",
      "|   5706|...All the Marble...|        Comedy|Drama|\n",
      "|   3420|...And Justice fo...|      Drama|Thriller|\n",
      "| 157110|00 Schneider - Ja...|        Comedy|Crime|\n",
      "|    889|   1-900 (06) (1994)|       Drama|Romance|\n",
      "|   6658|           10 (1979)|      Comedy|Romance|\n",
      "| 139717|10 Cent Pistol (2...|      Crime|Thriller|\n",
      "| 152077|10 Cloverfield La...|            Thriller|\n",
      "|  49284|10 Items or Less ...|Comedy|Drama|Romance|\n",
      "|   2572|10 Things I Hate ...|      Comedy|Romance|\n",
      "+-------+--------------------+--------------------+\n",
      "only showing top 20 rows\n",
      "\n"
     ]
    }
   ],
   "source": [
    "print(\"Movies sorted alphabetically\")\n",
    "sorted_movies.show()"
   ]
  },
  {
   "cell_type": "markdown",
   "id": "885c402c",
   "metadata": {},
   "source": [
    "#### • Calculate the average rating per genre."
   ]
  },
  {
   "cell_type": "code",
   "execution_count": 15,
   "id": "93f8a6a0",
   "metadata": {},
   "outputs": [],
   "source": [
    "# Split the genres by '|' and explode them to create multiple rows per movie\n",
    "movies_with_genres_df = movies_df.withColumn(\"genre\", explode(split(col(\"genres\"), \"\\|\")))"
   ]
  },
  {
   "cell_type": "code",
   "execution_count": 16,
   "id": "d8d8bd9e",
   "metadata": {},
   "outputs": [
    {
     "name": "stdout",
     "output_type": "stream",
     "text": [
      "+-------+----------------+--------------------+---------+\n",
      "|movieId|           title|              genres|    genre|\n",
      "+-------+----------------+--------------------+---------+\n",
      "|      1|Toy Story (1995)|Adventure|Animati...|Adventure|\n",
      "|      1|Toy Story (1995)|Adventure|Animati...|Animation|\n",
      "|      1|Toy Story (1995)|Adventure|Animati...| Children|\n",
      "|      1|Toy Story (1995)|Adventure|Animati...|   Comedy|\n",
      "|      1|Toy Story (1995)|Adventure|Animati...|  Fantasy|\n",
      "+-------+----------------+--------------------+---------+\n",
      "only showing top 5 rows\n",
      "\n"
     ]
    }
   ],
   "source": [
    "movies_with_genres_df.show(5)"
   ]
  },
  {
   "cell_type": "code",
   "execution_count": 17,
   "id": "23455531",
   "metadata": {},
   "outputs": [],
   "source": [
    "movies_with_genres_df.createOrReplaceTempView(\"movies_with_genres\")"
   ]
  },
  {
   "cell_type": "code",
   "execution_count": 18,
   "id": "cd9119a1",
   "metadata": {},
   "outputs": [],
   "source": [
    "query3 = \"\"\"\n",
    "        Select genre, avg(rating) as Average_Rating\n",
    "        from movies_with_genres join ratings\n",
    "        on movies_with_genres.movieId = ratings.movieId\n",
    "        group by genre\n",
    "        \"\"\""
   ]
  },
  {
   "cell_type": "code",
   "execution_count": 19,
   "id": "5f9e102b",
   "metadata": {},
   "outputs": [],
   "source": [
    "genre_ratings=spark.sql(query3)"
   ]
  },
  {
   "cell_type": "code",
   "execution_count": 20,
   "id": "d08680f0",
   "metadata": {},
   "outputs": [
    {
     "name": "stdout",
     "output_type": "stream",
     "text": [
      "Average Ratings per genre\n",
      "+------------------+------------------+\n",
      "|             genre|    Average_Rating|\n",
      "+------------------+------------------+\n",
      "|             Crime| 3.658293867274144|\n",
      "|           Romance|3.5065107040388437|\n",
      "|          Thriller|3.4937055799183425|\n",
      "|         Adventure|3.5086089151939075|\n",
      "|             Drama|3.6561844113718758|\n",
      "|               War|   3.8082938876312|\n",
      "|       Documentary| 3.797785069729286|\n",
      "|           Fantasy|3.4910005070136894|\n",
      "|           Mystery| 3.632460255407871|\n",
      "|           Musical|3.5636781053649105|\n",
      "|         Animation|3.6299370349170004|\n",
      "|         Film-Noir| 3.920114942528736|\n",
      "|(no genres listed)|3.4893617021276597|\n",
      "|              IMAX| 3.618335343787696|\n",
      "|            Horror| 3.258195034974626|\n",
      "|           Western| 3.583937823834197|\n",
      "|            Comedy|3.3847207640898267|\n",
      "|          Children| 3.412956125108601|\n",
      "|            Action| 3.447984331646809|\n",
      "|            Sci-Fi| 3.455721162210752|\n",
      "+------------------+------------------+\n",
      "\n"
     ]
    }
   ],
   "source": [
    "print(\"Average Ratings per genre\")\n",
    "genre_ratings.show()"
   ]
  },
  {
   "cell_type": "code",
   "execution_count": 21,
   "id": "3c108e8e",
   "metadata": {},
   "outputs": [],
   "source": [
    "spark.stop()"
   ]
  }
 ],
 "metadata": {
  "kernelspec": {
   "display_name": "Python 3 (ipykernel)",
   "language": "python",
   "name": "python3"
  },
  "language_info": {
   "codemirror_mode": {
    "name": "ipython",
    "version": 3
   },
   "file_extension": ".py",
   "mimetype": "text/x-python",
   "name": "python",
   "nbconvert_exporter": "python",
   "pygments_lexer": "ipython3",
   "version": "3.10.1"
  }
 },
 "nbformat": 4,
 "nbformat_minor": 5
}
