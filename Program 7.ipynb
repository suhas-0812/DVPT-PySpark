{
 "cells": [
  {
   "cell_type": "markdown",
   "id": "d2fcc9ad",
   "metadata": {},
   "source": [
    "### 7. Create a DataFrame containing real estate data with the following columns: HouseID, Location, Size, Bedrooms, Bathrooms, Price etc. Use the given dataset to build a linear regression model using PySpark's MLlib to predict the Price of a house based on the other features.\n",
    "### • Preprocess the data by handling missing values, encoding categorical variables (Location), and normalizing numerical features (Size, Bedrooms, Bathrooms, etc).\n",
    "### • Split the data into training and testing sets.\n",
    "### • Train a linear regression model on the training data.\n",
    "### • Evaluate the model's performance on the test data using the root mean square error (RMSE)\n",
    "### • Display the feature importances and interpret the results."
   ]
  },
  {
   "cell_type": "code",
   "execution_count": 45,
   "id": "964fade8",
   "metadata": {},
   "outputs": [],
   "source": [
    "from pyspark.sql import SparkSession\n",
    "from pyspark.ml.feature import StringIndexer, VectorAssembler, StandardScaler\n",
    "from pyspark.ml.regression import LinearRegression\n",
    "from pyspark.ml.evaluation import RegressionEvaluator"
   ]
  },
  {
   "cell_type": "code",
   "execution_count": 46,
   "id": "990cba76",
   "metadata": {},
   "outputs": [],
   "source": [
    "spark = SparkSession.builder.appName(\"Program 7\").getOrCreate()"
   ]
  },
  {
   "cell_type": "code",
   "execution_count": 47,
   "id": "657fca6d",
   "metadata": {},
   "outputs": [],
   "source": [
    "df=spark.read.csv(\"Datasets/House Price India.csv\", header=True, inferSchema=True)"
   ]
  },
  {
   "cell_type": "code",
   "execution_count": 48,
   "id": "a088d342",
   "metadata": {},
   "outputs": [
    {
     "name": "stdout",
     "output_type": "stream",
     "text": [
      "+----------+-----+------------------+-------------------+-----------+--------+----------------+------------------+---------------+----------------------+------------------+-------------------------------------+--------------------+----------+---------------+-----------+---------+---------+-----------------+--------------+------------------------+-------------------------+-------+\n",
      "|        id| Date|number of bedrooms|number of bathrooms|living area|lot area|number of floors|waterfront present|number of views|condition of the house|grade of the house|Area of the house(excluding basement)|Area of the basement|Built Year|Renovation Year|Postal Code|Lattitude|Longitude|living_area_renov|lot_area_renov|Number of schools nearby|Distance from the airport|  Price|\n",
      "+----------+-----+------------------+-------------------+-----------+--------+----------------+------------------+---------------+----------------------+------------------+-------------------------------------+--------------------+----------+---------------+-----------+---------+---------+-----------------+--------------+------------------------+-------------------------+-------+\n",
      "|6762810635|42491|                 4|                2.5|       2920|    4000|             1.5|                 0|              0|                     5|                 8|                                 1910|                1010|      1909|              0|     122004|  52.8878|  -114.47|             2470|          4000|                       2|                       51|1400000|\n",
      "|6762810998|42491|                 5|               2.75|       2910|    9480|             1.5|                 0|              0|                     3|                 8|                                 2910|                   0|      1939|              0|     122004|  52.8852| -114.468|             2940|          6600|                       1|                       53|1200000|\n",
      "|6762812605|42491|                 4|                2.5|       3310|   42998|             2.0|                 0|              0|                     3|                 9|                                 3310|                   0|      2001|              0|     122005|  52.9532| -114.321|             3350|         42847|                       3|                       76| 838000|\n",
      "|6762812919|42491|                 3|                2.0|       2710|    4500|             1.5|                 0|              0|                     4|                 8|                                 1880|                 830|      1929|              0|     122006|  52.9047| -114.485|             2060|          4500|                       1|                       51| 805000|\n",
      "|6762813105|42491|                 3|                2.5|       2600|    4750|             1.0|                 0|              0|                     4|                 9|                                 1700|                 900|      1951|              0|     122007|  52.9133|  -114.59|             2380|          4750|                       1|                       67| 790000|\n",
      "+----------+-----+------------------+-------------------+-----------+--------+----------------+------------------+---------------+----------------------+------------------+-------------------------------------+--------------------+----------+---------------+-----------+---------+---------+-----------------+--------------+------------------------+-------------------------+-------+\n",
      "only showing top 5 rows\n",
      "\n"
     ]
    }
   ],
   "source": [
    "df.show(5)"
   ]
  },
  {
   "cell_type": "code",
   "execution_count": 49,
   "id": "25f28edc",
   "metadata": {},
   "outputs": [],
   "source": [
    "df=df.select(\"id\",\"Postal Code\", \"Area of the house(excluding basement)\",\"number of bedrooms\", \"number of bathrooms\",\"Price\")"
   ]
  },
  {
   "cell_type": "code",
   "execution_count": 50,
   "id": "bd97f4d1",
   "metadata": {},
   "outputs": [
    {
     "name": "stdout",
     "output_type": "stream",
     "text": [
      "+----------+-----------+-------------------------------------+------------------+-------------------+-------+\n",
      "|        id|Postal Code|Area of the house(excluding basement)|number of bedrooms|number of bathrooms|  Price|\n",
      "+----------+-----------+-------------------------------------+------------------+-------------------+-------+\n",
      "|6762810635|     122004|                                 1910|                 4|                2.5|1400000|\n",
      "|6762810998|     122004|                                 2910|                 5|               2.75|1200000|\n",
      "|6762812605|     122005|                                 3310|                 4|                2.5| 838000|\n",
      "|6762812919|     122006|                                 1880|                 3|                2.0| 805000|\n",
      "|6762813105|     122007|                                 1700|                 3|                2.5| 790000|\n",
      "+----------+-----------+-------------------------------------+------------------+-------------------+-------+\n",
      "only showing top 5 rows\n",
      "\n"
     ]
    }
   ],
   "source": [
    "df.show(5)"
   ]
  },
  {
   "cell_type": "code",
   "execution_count": 51,
   "id": "26e46a7e",
   "metadata": {},
   "outputs": [],
   "source": [
    "df=(\n",
    "    df.withColumnRenamed(\"id\", \"HouseID\")\n",
    "    .withColumnRenamed(\"Postal Code\", \"Location\")\n",
    "    .withColumnRenamed(\"Area of the house(excluding basement)\", \"Size\")\n",
    "    .withColumnRenamed(\"number of bedrooms\", \"Bedrooms\")\n",
    "    .withColumnRenamed(\"number of bathrooms\", \"Bathrooms\")\n",
    ")"
   ]
  },
  {
   "cell_type": "code",
   "execution_count": 52,
   "id": "1ec46823",
   "metadata": {},
   "outputs": [
    {
     "name": "stdout",
     "output_type": "stream",
     "text": [
      "+----------+--------+----+--------+---------+-------+\n",
      "|   HouseID|Location|Size|Bedrooms|Bathrooms|  Price|\n",
      "+----------+--------+----+--------+---------+-------+\n",
      "|6762810635|  122004|1910|       4|      2.5|1400000|\n",
      "|6762810998|  122004|2910|       5|     2.75|1200000|\n",
      "|6762812605|  122005|3310|       4|      2.5| 838000|\n",
      "|6762812919|  122006|1880|       3|      2.0| 805000|\n",
      "|6762813105|  122007|1700|       3|      2.5| 790000|\n",
      "+----------+--------+----+--------+---------+-------+\n",
      "only showing top 5 rows\n",
      "\n"
     ]
    }
   ],
   "source": [
    "df.show(5)"
   ]
  },
  {
   "cell_type": "markdown",
   "id": "47452703",
   "metadata": {},
   "source": [
    "#### • Preprocess the data by handling missing values, encoding categorical variables (Location), and normalizing numerical features (Size, Bedrooms, Bathrooms, etc)."
   ]
  },
  {
   "cell_type": "code",
   "execution_count": 53,
   "id": "e202e1a2",
   "metadata": {},
   "outputs": [],
   "source": [
    "# Handling missing values\n",
    "df=df.dropna()"
   ]
  },
  {
   "cell_type": "code",
   "execution_count": 54,
   "id": "8b83c6a9",
   "metadata": {},
   "outputs": [],
   "source": [
    "# Encoding categorical variables\n",
    "indexer=StringIndexer(inputCol=\"Location\", outputCol=\"LocationIndex\")\n",
    "df=indexer.fit(df).transform(df)"
   ]
  },
  {
   "cell_type": "code",
   "execution_count": 55,
   "id": "512b82dd",
   "metadata": {},
   "outputs": [],
   "source": [
    "# Using assembler to convert features to a single vector\n",
    "feature_columns = [\"Size\", \"Bedrooms\", \"Bathrooms\", \"LocationIndex\"]\n",
    "assembler=VectorAssembler(inputCols=feature_columns, outputCol=\"Features\")\n",
    "df=assembler.transform(df)"
   ]
  },
  {
   "cell_type": "code",
   "execution_count": 56,
   "id": "bc21c3f4",
   "metadata": {},
   "outputs": [],
   "source": [
    "# Normalizing the values\n",
    "scaler = StandardScaler(inputCol=\"Features\", outputCol=\"ScaledFeatures\")\n",
    "df=scaler.fit(df).transform(df)"
   ]
  },
  {
   "cell_type": "code",
   "execution_count": 57,
   "id": "b4b8194f",
   "metadata": {},
   "outputs": [
    {
     "name": "stdout",
     "output_type": "stream",
     "text": [
      "+----------+--------+----+--------+---------+-------+-------------+--------------------+--------------------+\n",
      "|   HouseID|Location|Size|Bedrooms|Bathrooms|  Price|LocationIndex|            Features|      ScaledFeatures|\n",
      "+----------+--------+----+--------+---------+-------+-------------+--------------------+--------------------+\n",
      "|6762810635|  122004|1910|       4|      2.5|1400000|         49.0|[1910.0,4.0,2.5,4...|[2.29088867712370...|\n",
      "|6762810998|  122004|2910|       5|     2.75|1200000|         49.0|[2910.0,5.0,2.75,...|[3.49030683268585...|\n",
      "|6762812605|  122005|3310|       4|      2.5| 838000|          1.0|[3310.0,4.0,2.5,1.0]|[3.97007409491071...|\n",
      "|6762812919|  122006|1880|       3|      2.0| 805000|          2.0|[1880.0,3.0,2.0,2.0]|[2.25490613245684...|\n",
      "|6762813105|  122007|1700|       3|      2.5| 790000|          3.0|[1700.0,3.0,2.5,3.0]|[2.03901086445565...|\n",
      "+----------+--------+----+--------+---------+-------+-------------+--------------------+--------------------+\n",
      "only showing top 5 rows\n",
      "\n"
     ]
    }
   ],
   "source": [
    "df.show(5)"
   ]
  },
  {
   "cell_type": "markdown",
   "id": "fe43e9a8",
   "metadata": {},
   "source": [
    "#### • Split the data into training and testing sets."
   ]
  },
  {
   "cell_type": "code",
   "execution_count": 58,
   "id": "92438de7",
   "metadata": {},
   "outputs": [],
   "source": [
    "train_data, test_data = df.randomSplit([0.8, 0.2], seed=42)"
   ]
  },
  {
   "cell_type": "markdown",
   "id": "c4033faf",
   "metadata": {},
   "source": [
    "#### • Train a linear regression model on the training data."
   ]
  },
  {
   "cell_type": "code",
   "execution_count": 59,
   "id": "8c3a0a2e",
   "metadata": {},
   "outputs": [],
   "source": [
    "lr = LinearRegression(featuresCol=\"ScaledFeatures\", labelCol=\"Price\")"
   ]
  },
  {
   "cell_type": "code",
   "execution_count": 60,
   "id": "106ba420",
   "metadata": {},
   "outputs": [],
   "source": [
    "lr_model = lr.fit(train_data)"
   ]
  },
  {
   "cell_type": "markdown",
   "id": "d6434c74",
   "metadata": {},
   "source": [
    "#### • Evaluate the model's performance on the test data using the root mean square error (RMSE)"
   ]
  },
  {
   "cell_type": "code",
   "execution_count": 62,
   "id": "4dfe6081",
   "metadata": {},
   "outputs": [],
   "source": [
    "predictions= lr_model.transform(test_data)"
   ]
  },
  {
   "cell_type": "code",
   "execution_count": 63,
   "id": "3f6c1483",
   "metadata": {},
   "outputs": [
    {
     "data": {
      "text/plain": [
       "DataFrame[HouseID: bigint, Location: int, Size: int, Bedrooms: int, Bathrooms: double, Price: int, LocationIndex: double, Features: vector, ScaledFeatures: vector, prediction: double]"
      ]
     },
     "execution_count": 63,
     "metadata": {},
     "output_type": "execute_result"
    }
   ],
   "source": [
    "predictions"
   ]
  },
  {
   "cell_type": "code",
   "execution_count": 64,
   "id": "7c1a6fcb",
   "metadata": {},
   "outputs": [],
   "source": [
    "evaluator = RegressionEvaluator(labelCol=\"Price\", predictionCol=\"prediction\", metricName=\"rmse\")"
   ]
  },
  {
   "cell_type": "code",
   "execution_count": 65,
   "id": "c7d0bfcd",
   "metadata": {},
   "outputs": [],
   "source": [
    "rmse = evaluator.evaluate(predictions)"
   ]
  },
  {
   "cell_type": "code",
   "execution_count": 66,
   "id": "215234c4",
   "metadata": {},
   "outputs": [
    {
     "name": "stdout",
     "output_type": "stream",
     "text": [
      "Root Mean Squared Error:  273022.41852111975\n"
     ]
    }
   ],
   "source": [
    "print(\"Root Mean Squared Error: \", rmse)"
   ]
  },
  {
   "cell_type": "markdown",
   "id": "77836fcc",
   "metadata": {},
   "source": [
    "#### • Display the feature importances and interpret the results."
   ]
  },
  {
   "cell_type": "code",
   "execution_count": 69,
   "id": "7c4226e4",
   "metadata": {},
   "outputs": [
    {
     "name": "stdout",
     "output_type": "stream",
     "text": [
      "Feature Importances\n",
      "Size  :  171468.83058606222\n",
      "Bedrooms  :  -11562.86499890396\n",
      "Bathrooms  :  84836.65711617062\n",
      "LocationIndex  :  6297.088662391119\n"
     ]
    }
   ],
   "source": [
    "print(\"Feature Importances\")\n",
    "for col, weight in zip (feature_columns, lr_model.coefficients):\n",
    "    print(col, \" : \", weight)"
   ]
  },
  {
   "cell_type": "code",
   "execution_count": 70,
   "id": "abc9db8a",
   "metadata": {},
   "outputs": [],
   "source": [
    "spark.stop()"
   ]
  }
 ],
 "metadata": {
  "kernelspec": {
   "display_name": "Python 3 (ipykernel)",
   "language": "python",
   "name": "python3"
  },
  "language_info": {
   "codemirror_mode": {
    "name": "ipython",
    "version": 3
   },
   "file_extension": ".py",
   "mimetype": "text/x-python",
   "name": "python",
   "nbconvert_exporter": "python",
   "pygments_lexer": "ipython3",
   "version": "3.10.1"
  }
 },
 "nbformat": 4,
 "nbformat_minor": 5
}
