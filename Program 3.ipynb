{
 "cells": [
  {
   "cell_type": "markdown",
   "id": "d658fb8e",
   "metadata": {},
   "source": [
    "### 3. Using PySpark, analyze airline flight data (e.g., departure and arrival times, delays, carrier information) and perform the following operations:\n",
    "### • Load a CSV file containing airline flight data\n",
    "### • Filter flights that were delayed.\n",
    "### • Analyze whether there is any correlation between the flight length and the likelihood of a delay."
   ]
  },
  {
   "cell_type": "code",
   "execution_count": 1,
   "id": "bd58c878",
   "metadata": {},
   "outputs": [],
   "source": [
    "from pyspark.sql import SparkSession\n",
    "from pyspark.sql.functions import col"
   ]
  },
  {
   "cell_type": "code",
   "execution_count": 4,
   "id": "f4582c99",
   "metadata": {},
   "outputs": [],
   "source": [
    "spark = SparkSession.builder.appName(\"Program 3\").getOrCreate()"
   ]
  },
  {
   "cell_type": "markdown",
   "id": "51c735cd",
   "metadata": {},
   "source": [
    "#### • Load a CSV file containing airline flight data"
   ]
  },
  {
   "cell_type": "code",
   "execution_count": 2,
   "id": "266bb302",
   "metadata": {},
   "outputs": [],
   "source": [
    "file_path = 'Datasets/Airlines.csv'"
   ]
  },
  {
   "cell_type": "code",
   "execution_count": 5,
   "id": "6075d0a1",
   "metadata": {},
   "outputs": [],
   "source": [
    "df = spark.read.csv(file_path, header=True, inferSchema=True)"
   ]
  },
  {
   "cell_type": "code",
   "execution_count": 6,
   "id": "6fa2223f",
   "metadata": {},
   "outputs": [
    {
     "name": "stdout",
     "output_type": "stream",
     "text": [
      "+---+-------+------+-----------+---------+---------+----+------+-----+\n",
      "| id|Airline|Flight|AirportFrom|AirportTo|DayOfWeek|Time|Length|Delay|\n",
      "+---+-------+------+-----------+---------+---------+----+------+-----+\n",
      "|  1|     CO|   269|        SFO|      IAH|        3|  15|   205|    1|\n",
      "|  2|     US|  1558|        PHX|      CLT|        3|  15|   222|    1|\n",
      "|  3|     AA|  2400|        LAX|      DFW|        3|  20|   165|    1|\n",
      "|  4|     AA|  2466|        SFO|      DFW|        3|  20|   195|    1|\n",
      "|  5|     AS|   108|        ANC|      SEA|        3|  30|   202|    0|\n",
      "+---+-------+------+-----------+---------+---------+----+------+-----+\n",
      "only showing top 5 rows\n",
      "\n"
     ]
    }
   ],
   "source": [
    "df.show(5)"
   ]
  },
  {
   "cell_type": "markdown",
   "id": "bffc8fae",
   "metadata": {},
   "source": [
    "#### • Filter flights that were delayed."
   ]
  },
  {
   "cell_type": "code",
   "execution_count": 8,
   "id": "415b4560",
   "metadata": {},
   "outputs": [],
   "source": [
    "delayed_flights = df.filter(col(\"Delay\")==1)"
   ]
  },
  {
   "cell_type": "code",
   "execution_count": 10,
   "id": "a4682c66",
   "metadata": {},
   "outputs": [
    {
     "name": "stdout",
     "output_type": "stream",
     "text": [
      "Delayed Flights\n",
      "+---+-------+------+-----------+---------+---------+----+------+-----+\n",
      "| id|Airline|Flight|AirportFrom|AirportTo|DayOfWeek|Time|Length|Delay|\n",
      "+---+-------+------+-----------+---------+---------+----+------+-----+\n",
      "|  1|     CO|   269|        SFO|      IAH|        3|  15|   205|    1|\n",
      "|  2|     US|  1558|        PHX|      CLT|        3|  15|   222|    1|\n",
      "|  3|     AA|  2400|        LAX|      DFW|        3|  20|   165|    1|\n",
      "|  4|     AA|  2466|        SFO|      DFW|        3|  20|   195|    1|\n",
      "|  6|     CO|  1094|        LAX|      IAH|        3|  30|   181|    1|\n",
      "|  9|     DL|  2606|        SFO|      MSP|        3|  35|   216|    1|\n",
      "| 10|     AA|  2538|        LAS|      ORD|        3|  40|   200|    1|\n",
      "| 11|     CO|   223|        ANC|      SEA|        3|  49|   201|    1|\n",
      "| 12|     DL|  1646|        PHX|      ATL|        3|  50|   212|    1|\n",
      "| 24|     HA|    17|        LAS|      HNL|        3| 100|   380|    1|\n",
      "| 25|     US|   122|        ANC|      PHX|        3| 113|   327|    1|\n",
      "| 29|     HA|   206|        HNL|      OGG|        3| 300|    36|    1|\n",
      "| 39|     OH|  6338|        GSO|      ATL|        3| 315|    93|    1|\n",
      "| 41|     US|   149|        SEA|      PHX|        3| 315|   166|    1|\n",
      "| 45|     9E|  3854|        DLH|      MSP|        3| 320|    58|    1|\n",
      "| 47|     OO|  4651|        FAR|      MSP|        3| 320|    62|    1|\n",
      "| 53|     OO|  4719|        LWS|      SLC|        3| 328|    87|    1|\n",
      "| 55|     9E|  3775|        ALB|      DTW|        3| 330|   120|    1|\n",
      "| 56|     9E|  3886|        DSM|      ATL|        3| 330|   135|    1|\n",
      "| 75|     EV|  5532|        CAE|      ATL|        3| 330|    64|    1|\n",
      "+---+-------+------+-----------+---------+---------+----+------+-----+\n",
      "only showing top 20 rows\n",
      "\n"
     ]
    }
   ],
   "source": [
    "print(\"Delayed Flights\")\n",
    "delayed_flights.show()"
   ]
  },
  {
   "cell_type": "markdown",
   "id": "8bd0d89e",
   "metadata": {},
   "source": [
    "#### • Analyze whether there is any correlation between the flight length and the likelihood of a delay."
   ]
  },
  {
   "cell_type": "code",
   "execution_count": 12,
   "id": "96af8c40",
   "metadata": {},
   "outputs": [
    {
     "name": "stdout",
     "output_type": "stream",
     "text": [
      "Correlation between Flight Length and likelihood of Delay:  0.040489471608066915\n"
     ]
    }
   ],
   "source": [
    "correlation = df.corr(\"Length\", \"Delay\")\n",
    "print(\"Correlation between Flight Length and likelihood of Delay: \", correlation)"
   ]
  },
  {
   "cell_type": "code",
   "execution_count": 13,
   "id": "52ddf615",
   "metadata": {},
   "outputs": [],
   "source": [
    "spark.stop()"
   ]
  }
 ],
 "metadata": {
  "kernelspec": {
   "display_name": "Python 3 (ipykernel)",
   "language": "python",
   "name": "python3"
  },
  "language_info": {
   "codemirror_mode": {
    "name": "ipython",
    "version": 3
   },
   "file_extension": ".py",
   "mimetype": "text/x-python",
   "name": "python",
   "nbconvert_exporter": "python",
   "pygments_lexer": "ipython3",
   "version": "3.10.1"
  }
 },
 "nbformat": 4,
 "nbformat_minor": 5
}
