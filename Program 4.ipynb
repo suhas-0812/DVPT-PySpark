{
 "cells": [
  {
   "cell_type": "markdown",
   "id": "0ea63031",
   "metadata": {},
   "source": [
    "### 4. Consider airline flight data, given in the previous question. Perform the following operation using PySpark\n",
    "### • Group the data by airline carrier and compute the average delay for each one.\n",
    "### • Determine the top five routes (origin-destination) with the highest average delay."
   ]
  },
  {
   "cell_type": "code",
   "execution_count": 13,
   "id": "94bdc53c",
   "metadata": {},
   "outputs": [],
   "source": [
    "from pyspark.sql import SparkSession\n",
    "from pyspark.sql.functions import col, avg, concat_ws"
   ]
  },
  {
   "cell_type": "code",
   "execution_count": 2,
   "id": "fff679c2",
   "metadata": {},
   "outputs": [],
   "source": [
    "spark=SparkSession.builder.appName(\"Program 4\").getOrCreate()"
   ]
  },
  {
   "cell_type": "code",
   "execution_count": 3,
   "id": "ede6cf3c",
   "metadata": {},
   "outputs": [],
   "source": [
    "file_path = \"Datasets/Airlines.csv\""
   ]
  },
  {
   "cell_type": "code",
   "execution_count": 4,
   "id": "cd814645",
   "metadata": {},
   "outputs": [],
   "source": [
    "df=spark.read.csv(file_path, header=True, inferSchema=True)"
   ]
  },
  {
   "cell_type": "code",
   "execution_count": 5,
   "id": "c07c1e25",
   "metadata": {},
   "outputs": [
    {
     "name": "stdout",
     "output_type": "stream",
     "text": [
      "+---+-------+------+-----------+---------+---------+----+------+-----+\n",
      "| id|Airline|Flight|AirportFrom|AirportTo|DayOfWeek|Time|Length|Delay|\n",
      "+---+-------+------+-----------+---------+---------+----+------+-----+\n",
      "|  1|     CO|   269|        SFO|      IAH|        3|  15|   205|    1|\n",
      "|  2|     US|  1558|        PHX|      CLT|        3|  15|   222|    1|\n",
      "|  3|     AA|  2400|        LAX|      DFW|        3|  20|   165|    1|\n",
      "|  4|     AA|  2466|        SFO|      DFW|        3|  20|   195|    1|\n",
      "|  5|     AS|   108|        ANC|      SEA|        3|  30|   202|    0|\n",
      "+---+-------+------+-----------+---------+---------+----+------+-----+\n",
      "only showing top 5 rows\n",
      "\n"
     ]
    }
   ],
   "source": [
    "df.show(5)"
   ]
  },
  {
   "cell_type": "markdown",
   "id": "2adfa903",
   "metadata": {},
   "source": [
    "#### • Group the data by airline carrier and compute the average delay for each one."
   ]
  },
  {
   "cell_type": "code",
   "execution_count": 6,
   "id": "6e971f9a",
   "metadata": {},
   "outputs": [],
   "source": [
    "average_delay = df.groupBy(\"Airline\").agg(avg(col(\"Delay\")).alias(\"Average Delay Likelihood\"))"
   ]
  },
  {
   "cell_type": "code",
   "execution_count": 7,
   "id": "9de9ddd2",
   "metadata": {},
   "outputs": [
    {
     "name": "stdout",
     "output_type": "stream",
     "text": [
      "Average Delay Likelihood for each Airline\n",
      "+-------+------------------------+\n",
      "|Airline|Average Delay Likelihood|\n",
      "+-------+------------------------+\n",
      "|     UA|     0.32390745501285345|\n",
      "|     AA|     0.38847029963203084|\n",
      "|     EV|      0.4022084837222599|\n",
      "|     B6|     0.46703842756183744|\n",
      "|     DL|       0.450475877912701|\n",
      "|     OO|      0.4528992716997652|\n",
      "|     F9|     0.44903965303593557|\n",
      "|     YV|      0.2429143897996357|\n",
      "|     US|     0.33597101449275363|\n",
      "|     MQ|     0.34809452260620133|\n",
      "|     OH|      0.2772763262074426|\n",
      "|     HA|      0.3201864467551094|\n",
      "|     XE|     0.37894364839683864|\n",
      "|     AS|      0.3392903844477378|\n",
      "|     CO|      0.5661994507055592|\n",
      "|     FL|     0.30129159264416383|\n",
      "|     WN|      0.6977586958138942|\n",
      "|     9E|     0.39766025331141835|\n",
      "+-------+------------------------+\n",
      "\n"
     ]
    }
   ],
   "source": [
    "print(\"Average Delay Likelihood for each Airline\")\n",
    "average_delay.show()"
   ]
  },
  {
   "cell_type": "markdown",
   "id": "3af6eeb1",
   "metadata": {},
   "source": [
    "#### • Determine the top five routes (origin-destination) with the highest average delay."
   ]
  },
  {
   "cell_type": "code",
   "execution_count": 20,
   "id": "3a427c99",
   "metadata": {},
   "outputs": [],
   "source": [
    "top_average_delays = (\n",
    "                     df.groupBy(concat_ws(\"-\", col(\"AirportFrom\"), col(\"AirportTo\")).alias(\"Route\"))\n",
    "                       .agg(avg(col(\"Delay\"))\n",
    "                       .alias(\"Average Delay Likelihood\"))\n",
    "                       .orderBy(avg(col(\"Delay\")).desc())\n",
    "                       .limit(5)\n",
    "                      )"
   ]
  },
  {
   "cell_type": "code",
   "execution_count": 21,
   "id": "b87f9c54",
   "metadata": {},
   "outputs": [
    {
     "name": "stdout",
     "output_type": "stream",
     "text": [
      "Top 5 routes with highest average delay\n",
      "+-------+------------------------+\n",
      "|  Route|Average Delay Likelihood|\n",
      "+-------+------------------------+\n",
      "|PIT-CRW|                     1.0|\n",
      "|MSP-PVD|                     1.0|\n",
      "|LAS-BUF|                     1.0|\n",
      "|BDL-LAS|                     1.0|\n",
      "|IDA-PIH|                     1.0|\n",
      "+-------+------------------------+\n",
      "\n"
     ]
    }
   ],
   "source": [
    "print(\"Top 5 routes with highest average delay\")\n",
    "top_average_delays.show()"
   ]
  },
  {
   "cell_type": "code",
   "execution_count": 22,
   "id": "55f06698",
   "metadata": {},
   "outputs": [],
   "source": [
    "spark.stop()"
   ]
  }
 ],
 "metadata": {
  "kernelspec": {
   "display_name": "Python 3 (ipykernel)",
   "language": "python",
   "name": "python3"
  },
  "language_info": {
   "codemirror_mode": {
    "name": "ipython",
    "version": 3
   },
   "file_extension": ".py",
   "mimetype": "text/x-python",
   "name": "python",
   "nbconvert_exporter": "python",
   "pygments_lexer": "ipython3",
   "version": "3.10.1"
  }
 },
 "nbformat": 4,
 "nbformat_minor": 5
}
