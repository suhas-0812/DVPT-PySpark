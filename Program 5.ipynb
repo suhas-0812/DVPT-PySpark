{
 "cells": [
  {
   "cell_type": "markdown",
   "id": "f283db04",
   "metadata": {},
   "source": [
    "### 5. Given a Movie dataset containing user ratings for movies, using PySpark SQL perform the following operations\n",
    "### • Load a CSV file containing movie data\n",
    "### • Create temporary views for movies and ratings.\n",
    "### • Write queries to find the top 10 highest-rated movies with at least 10 ratings."
   ]
  },
  {
   "cell_type": "code",
   "execution_count": 1,
   "id": "846f3752",
   "metadata": {},
   "outputs": [],
   "source": [
    "from pyspark.sql import SparkSession"
   ]
  },
  {
   "cell_type": "code",
   "execution_count": 2,
   "id": "7694299d",
   "metadata": {},
   "outputs": [],
   "source": [
    "spark = SparkSession.builder.appName(\"Program 5\").getOrCreate()"
   ]
  },
  {
   "cell_type": "markdown",
   "id": "b9e64138",
   "metadata": {},
   "source": [
    "#### • Load a CSV file containing movie data"
   ]
  },
  {
   "cell_type": "code",
   "execution_count": 9,
   "id": "416e3592",
   "metadata": {},
   "outputs": [],
   "source": [
    "movies_df = spark.read.csv(\"Datasets/Movies/movies.csv\", header=True, inferSchema=True)"
   ]
  },
  {
   "cell_type": "code",
   "execution_count": 10,
   "id": "ff9860b6",
   "metadata": {},
   "outputs": [
    {
     "name": "stdout",
     "output_type": "stream",
     "text": [
      "+-------+--------------------+--------------------+\n",
      "|movieId|               title|              genres|\n",
      "+-------+--------------------+--------------------+\n",
      "|      1|    Toy Story (1995)|Adventure|Animati...|\n",
      "|      2|      Jumanji (1995)|Adventure|Childre...|\n",
      "|      3|Grumpier Old Men ...|      Comedy|Romance|\n",
      "|      4|Waiting to Exhale...|Comedy|Drama|Romance|\n",
      "|      5|Father of the Bri...|              Comedy|\n",
      "+-------+--------------------+--------------------+\n",
      "only showing top 5 rows\n",
      "\n"
     ]
    }
   ],
   "source": [
    "movies.show(5)"
   ]
  },
  {
   "cell_type": "code",
   "execution_count": 11,
   "id": "ecd7f560",
   "metadata": {},
   "outputs": [],
   "source": [
    "ratings_df = spark.read.csv(\"Datasets/Movies/ratings.csv\", header=True, inferSchema=True)"
   ]
  },
  {
   "cell_type": "code",
   "execution_count": 12,
   "id": "15a3261e",
   "metadata": {},
   "outputs": [
    {
     "name": "stdout",
     "output_type": "stream",
     "text": [
      "+------+-------+------+---------+\n",
      "|userId|movieId|rating|timestamp|\n",
      "+------+-------+------+---------+\n",
      "|     1|      1|   4.0|964982703|\n",
      "|     1|      3|   4.0|964981247|\n",
      "|     1|      6|   4.0|964982224|\n",
      "|     1|     47|   5.0|964983815|\n",
      "|     1|     50|   5.0|964982931|\n",
      "+------+-------+------+---------+\n",
      "only showing top 5 rows\n",
      "\n"
     ]
    }
   ],
   "source": [
    "ratings.show(5)"
   ]
  },
  {
   "cell_type": "markdown",
   "id": "bd4ec994",
   "metadata": {},
   "source": [
    "#### • Create temporary views for movies and ratings."
   ]
  },
  {
   "cell_type": "code",
   "execution_count": 13,
   "id": "e24980c9",
   "metadata": {},
   "outputs": [],
   "source": [
    "movies_df.createOrReplaceTempView(\"movies\")"
   ]
  },
  {
   "cell_type": "code",
   "execution_count": 14,
   "id": "ead60bb5",
   "metadata": {},
   "outputs": [],
   "source": [
    "ratings_df.createOrReplaceTempView(\"ratings\")"
   ]
  },
  {
   "cell_type": "markdown",
   "id": "e1badbd3",
   "metadata": {},
   "source": [
    "#### • Write queries to find the top 10 highest-rated movies with at least 10 ratings."
   ]
  },
  {
   "cell_type": "code",
   "execution_count": 31,
   "id": "941e9d51",
   "metadata": {},
   "outputs": [],
   "source": [
    "query = \"\"\"\n",
    "        Select m.movieId, title, avg(rating) as Average_Rating, count(rating) as No_of_Ratings\n",
    "        from movies as m join ratings as r\n",
    "        on m.movieId = r.movieId\n",
    "        group by m.movieId, title\n",
    "        having No_of_Ratings>10\n",
    "        order by Average_Rating desc\n",
    "        limit 10\n",
    "        \"\"\""
   ]
  },
  {
   "cell_type": "code",
   "execution_count": 32,
   "id": "d147fbe1",
   "metadata": {},
   "outputs": [],
   "source": [
    "top_10_movies = spark.sql(query)"
   ]
  },
  {
   "cell_type": "code",
   "execution_count": 29,
   "id": "ada06566",
   "metadata": {},
   "outputs": [
    {
     "name": "stdout",
     "output_type": "stream",
     "text": [
      "+-------+--------------------+-----------------+-------------+\n",
      "|movieId|               title|   Average_Rating|No_of_Ratings|\n",
      "+-------+--------------------+-----------------+-------------+\n",
      "|   1041|Secrets & Lies (1...|4.590909090909091|           11|\n",
      "|   3451|Guess Who's Comin...|4.545454545454546|           11|\n",
      "|   1178|Paths of Glory (1...|4.541666666666667|           12|\n",
      "|   1104|Streetcar Named D...|            4.475|           20|\n",
      "|   2360|Celebration, The ...|4.458333333333333|           12|\n",
      "|   1217|          Ran (1985)|4.433333333333334|           15|\n",
      "|    318|Shawshank Redempt...|4.429022082018927|          317|\n",
      "|    951|His Girl Friday (...|4.392857142857143|           14|\n",
      "|   3468| Hustler, The (1961)|4.333333333333333|           18|\n",
      "|    922|Sunset Blvd. (a.k...|4.333333333333333|           27|\n",
      "+-------+--------------------+-----------------+-------------+\n",
      "\n"
     ]
    }
   ],
   "source": [
    "top_10_movies.show()"
   ]
  },
  {
   "cell_type": "code",
   "execution_count": 30,
   "id": "1574a042",
   "metadata": {},
   "outputs": [],
   "source": [
    "spark.stop()"
   ]
  }
 ],
 "metadata": {
  "kernelspec": {
   "display_name": "Python 3 (ipykernel)",
   "language": "python",
   "name": "python3"
  },
  "language_info": {
   "codemirror_mode": {
    "name": "ipython",
    "version": 3
   },
   "file_extension": ".py",
   "mimetype": "text/x-python",
   "name": "python",
   "nbconvert_exporter": "python",
   "pygments_lexer": "ipython3",
   "version": "3.10.1"
  }
 },
 "nbformat": 4,
 "nbformat_minor": 5
}
