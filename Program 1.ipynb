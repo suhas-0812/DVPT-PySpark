{
 "cells": [
  {
   "cell_type": "markdown",
   "id": "c8c3c5ca",
   "metadata": {},
   "source": [
    "### 1. Write a PySpark program to create a DataFrame with four columns: “name”, “age”, “city”, and “gender” and perform the following operations:\n",
    "### • Insert minimum 10 values for the given columns.\n",
    "### • Filter rows with age greater than 30.\n",
    "### • Add a new column named it “tax”.\n",
    "### • Rename the “age” column to “years”.\n",
    "### • Drop Multiple Columns from the given data frame."
   ]
  },
  {
   "cell_type": "code",
   "execution_count": 1,
   "id": "fe8c3b46",
   "metadata": {},
   "outputs": [],
   "source": [
    "from pyspark.sql import SparkSession\n",
    "from pyspark.sql.functions import col,lit"
   ]
  },
  {
   "cell_type": "code",
   "execution_count": 2,
   "id": "8b63828d",
   "metadata": {},
   "outputs": [],
   "source": [
    "spark = SparkSession.builder.appName(\"Program 1\").getOrCreate()"
   ]
  },
  {
   "cell_type": "code",
   "execution_count": 3,
   "id": "be586d76",
   "metadata": {},
   "outputs": [],
   "source": [
    "columns=[\"Name\", \"Age\", \"City\", \"Gender\"]"
   ]
  },
  {
   "cell_type": "markdown",
   "id": "13865d30",
   "metadata": {},
   "source": [
    "#### • Insert minimum 10 values for the given columns."
   ]
  },
  {
   "cell_type": "code",
   "execution_count": 4,
   "id": "8e2adb31",
   "metadata": {},
   "outputs": [],
   "source": [
    "data = [\n",
    "    (\"Alice\", 25, \"New York\", \"Female\"),\n",
    "    (\"Bob\", 35, \"Los Angeles\", \"Male\"),\n",
    "    (\"Charlie\", 45, \"Chicago\", \"Male\"),\n",
    "    (\"Diana\", 29, \"Houston\", \"Female\"),\n",
    "    (\"Eve\", 31, \"Phoenix\", \"Female\"),\n",
    "    (\"Frank\", 40, \"San Francisco\", \"Male\"),\n",
    "    (\"Grace\", 28, \"Seattle\", \"Female\"),\n",
    "    (\"Hank\", 33, \"Boston\", \"Male\"),\n",
    "    (\"Ivy\", 37, \"Miami\", \"Female\"),\n",
    "    (\"Jack\", 50, \"Denver\", \"Male\")\n",
    "]"
   ]
  },
  {
   "cell_type": "code",
   "execution_count": 5,
   "id": "d5a5ec62",
   "metadata": {},
   "outputs": [],
   "source": [
    "df=spark.createDataFrame(data, columns)"
   ]
  },
  {
   "cell_type": "code",
   "execution_count": 6,
   "id": "d2ab5daa",
   "metadata": {},
   "outputs": [
    {
     "name": "stdout",
     "output_type": "stream",
     "text": [
      "Initial DataFrame\n",
      "+-------+---+-------------+------+\n",
      "|   Name|Age|         City|Gender|\n",
      "+-------+---+-------------+------+\n",
      "|  Alice| 25|     New York|Female|\n",
      "|    Bob| 35|  Los Angeles|  Male|\n",
      "|Charlie| 45|      Chicago|  Male|\n",
      "|  Diana| 29|      Houston|Female|\n",
      "|    Eve| 31|      Phoenix|Female|\n",
      "|  Frank| 40|San Francisco|  Male|\n",
      "|  Grace| 28|      Seattle|Female|\n",
      "|   Hank| 33|       Boston|  Male|\n",
      "|    Ivy| 37|        Miami|Female|\n",
      "|   Jack| 50|       Denver|  Male|\n",
      "+-------+---+-------------+------+\n",
      "\n"
     ]
    }
   ],
   "source": [
    "print(\"Initial DataFrame\")\n",
    "df.show()"
   ]
  },
  {
   "cell_type": "markdown",
   "id": "686f9a36",
   "metadata": {},
   "source": [
    "#### • Filter rows with age greater than 30."
   ]
  },
  {
   "cell_type": "code",
   "execution_count": 8,
   "id": "da1d17d6",
   "metadata": {},
   "outputs": [],
   "source": [
    "age_greater_than_30 = df.filter(col(\"Age\")>30)"
   ]
  },
  {
   "cell_type": "code",
   "execution_count": 29,
   "id": "af56f739",
   "metadata": {},
   "outputs": [
    {
     "name": "stdout",
     "output_type": "stream",
     "text": [
      "Rows with age greater than 30\n",
      "+-------+---+-------------+------+\n",
      "|   Name|Age|         City|Gender|\n",
      "+-------+---+-------------+------+\n",
      "|    Bob| 35|  Los Angeles|  Male|\n",
      "|Charlie| 45|      Chicago|  Male|\n",
      "|    Eve| 31|      Phoenix|Female|\n",
      "|  Frank| 40|San Francisco|  Male|\n",
      "|   Hank| 33|       Boston|  Male|\n",
      "|    Ivy| 37|        Miami|Female|\n",
      "|   Jack| 50|       Denver|  Male|\n",
      "+-------+---+-------------+------+\n",
      "\n"
     ]
    }
   ],
   "source": [
    "print(\"Rows with age greater than 30\")\n",
    "age_greater_than_30.show()"
   ]
  },
  {
   "cell_type": "markdown",
   "id": "b3fdb10e",
   "metadata": {},
   "source": [
    "#### • Add a new column named it “tax”."
   ]
  },
  {
   "cell_type": "code",
   "execution_count": 22,
   "id": "7437ec79",
   "metadata": {},
   "outputs": [],
   "source": [
    "df_with_tax=df.withColumn(\"Tax\",lit(100))"
   ]
  },
  {
   "cell_type": "code",
   "execution_count": 28,
   "id": "d64a9467",
   "metadata": {},
   "outputs": [
    {
     "name": "stdout",
     "output_type": "stream",
     "text": [
      "Dataframe with tax as new column\n",
      "+-------+---+-------------+------+---+\n",
      "|   Name|Age|         City|Gender|Tax|\n",
      "+-------+---+-------------+------+---+\n",
      "|  Alice| 25|     New York|Female|100|\n",
      "|    Bob| 35|  Los Angeles|  Male|100|\n",
      "|Charlie| 45|      Chicago|  Male|100|\n",
      "|  Diana| 29|      Houston|Female|100|\n",
      "|    Eve| 31|      Phoenix|Female|100|\n",
      "|  Frank| 40|San Francisco|  Male|100|\n",
      "|  Grace| 28|      Seattle|Female|100|\n",
      "|   Hank| 33|       Boston|  Male|100|\n",
      "|    Ivy| 37|        Miami|Female|100|\n",
      "|   Jack| 50|       Denver|  Male|100|\n",
      "+-------+---+-------------+------+---+\n",
      "\n"
     ]
    }
   ],
   "source": [
    "print(\"Dataframe with tax as new column\")\n",
    "df_with_tax.show()"
   ]
  },
  {
   "cell_type": "markdown",
   "id": "15bfcc0f",
   "metadata": {},
   "source": [
    "#### • Rename the “age” column to “years”."
   ]
  },
  {
   "cell_type": "code",
   "execution_count": 24,
   "id": "65a37f11",
   "metadata": {},
   "outputs": [],
   "source": [
    "renamed_df = df_with_tax.withColumnRenamed(\"Age\",\"Years\")"
   ]
  },
  {
   "cell_type": "code",
   "execution_count": 31,
   "id": "5e0f6d84",
   "metadata": {},
   "outputs": [
    {
     "name": "stdout",
     "output_type": "stream",
     "text": [
      "Column 'Age' renamed to 'Years'\n",
      "+-------+-----+-------------+------+---+\n",
      "|   Name|Years|         City|Gender|Tax|\n",
      "+-------+-----+-------------+------+---+\n",
      "|  Alice|   25|     New York|Female|100|\n",
      "|    Bob|   35|  Los Angeles|  Male|100|\n",
      "|Charlie|   45|      Chicago|  Male|100|\n",
      "|  Diana|   29|      Houston|Female|100|\n",
      "|    Eve|   31|      Phoenix|Female|100|\n",
      "|  Frank|   40|San Francisco|  Male|100|\n",
      "|  Grace|   28|      Seattle|Female|100|\n",
      "|   Hank|   33|       Boston|  Male|100|\n",
      "|    Ivy|   37|        Miami|Female|100|\n",
      "|   Jack|   50|       Denver|  Male|100|\n",
      "+-------+-----+-------------+------+---+\n",
      "\n"
     ]
    }
   ],
   "source": [
    "print(\"Column 'Age' renamed to 'Years'\")\n",
    "renamed_df.show()"
   ]
  },
  {
   "cell_type": "markdown",
   "id": "993d0f97",
   "metadata": {},
   "source": [
    "#### • Drop Multiple Columns from the given data frame."
   ]
  },
  {
   "cell_type": "code",
   "execution_count": 26,
   "id": "16cdb3d6",
   "metadata": {},
   "outputs": [],
   "source": [
    "dropped_col_df=renamed_df.drop(\"Gender\", \"Tax\")"
   ]
  },
  {
   "cell_type": "code",
   "execution_count": 32,
   "id": "8e84d9f4",
   "metadata": {},
   "outputs": [
    {
     "name": "stdout",
     "output_type": "stream",
     "text": [
      "DataFrames with 2 columns dropped - Gender and Tax\n",
      "+-------+-----+-------------+\n",
      "|   Name|Years|         City|\n",
      "+-------+-----+-------------+\n",
      "|  Alice|   25|     New York|\n",
      "|    Bob|   35|  Los Angeles|\n",
      "|Charlie|   45|      Chicago|\n",
      "|  Diana|   29|      Houston|\n",
      "|    Eve|   31|      Phoenix|\n",
      "|  Frank|   40|San Francisco|\n",
      "|  Grace|   28|      Seattle|\n",
      "|   Hank|   33|       Boston|\n",
      "|    Ivy|   37|        Miami|\n",
      "|   Jack|   50|       Denver|\n",
      "+-------+-----+-------------+\n",
      "\n"
     ]
    }
   ],
   "source": [
    "print(\"DataFrames with 2 columns dropped - Gender and Tax\")\n",
    "dropped_col_df.show()"
   ]
  },
  {
   "cell_type": "code",
   "execution_count": 33,
   "id": "2f37a2ec",
   "metadata": {},
   "outputs": [],
   "source": [
    "spark.stop()"
   ]
  }
 ],
 "metadata": {
  "kernelspec": {
   "display_name": "Python 3 (ipykernel)",
   "language": "python",
   "name": "python3"
  },
  "language_info": {
   "codemirror_mode": {
    "name": "ipython",
    "version": 3
   },
   "file_extension": ".py",
   "mimetype": "text/x-python",
   "name": "python",
   "nbconvert_exporter": "python",
   "pygments_lexer": "ipython3",
   "version": "3.10.1"
  }
 },
 "nbformat": 4,
 "nbformat_minor": 5
}
