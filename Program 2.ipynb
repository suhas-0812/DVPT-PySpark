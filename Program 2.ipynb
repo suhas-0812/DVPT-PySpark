{
 "cells": [
  {
   "cell_type": "markdown",
   "id": "eefff1f1",
   "metadata": {},
   "source": [
    "### 2. Write a PySpark program to create a DataFrame containing information about various products, including ProductID, ProductName, Category, Price, StockQuantity, & Rating and perform the following operations:\n",
    "### • Insert minimum 10 values for the given columns.\n",
    "### • Sort the DataFrame first by Price in descending order and then by Category in ascending order.\n",
    "### • Find the total sales amount for each product by category.\n",
    "### • Find the total sales amount and the total quantity sold for each product."
   ]
  },
  {
   "cell_type": "code",
   "execution_count": 1,
   "id": "9d900a44",
   "metadata": {},
   "outputs": [],
   "source": [
    "from pyspark.sql import SparkSession\n",
    "from pyspark.sql.functions import col, sum"
   ]
  },
  {
   "cell_type": "code",
   "execution_count": 2,
   "id": "5fd5477c",
   "metadata": {},
   "outputs": [],
   "source": [
    "spark = SparkSession.builder.appName(\"Program 2\").getOrCreate()"
   ]
  },
  {
   "cell_type": "code",
   "execution_count": 29,
   "id": "52e89377",
   "metadata": {},
   "outputs": [],
   "source": [
    "cols = [\"ProductID\", \"ProductName\", \"Category\", \"Price\", \"StockQuantity\", \"Rating\", \"QuantitySold\"]"
   ]
  },
  {
   "cell_type": "markdown",
   "id": "aa5c7d4e",
   "metadata": {},
   "source": [
    "#### • Insert minimum 10 values for the given columns."
   ]
  },
  {
   "cell_type": "code",
   "execution_count": 30,
   "id": "a9d4c2be",
   "metadata": {},
   "outputs": [],
   "source": [
    "data = [\n",
    "    (1, \"Laptop\", \"Electronics\", 1000, 50, 4.5, 20),\n",
    "    (2, \"Smartphone\", \"Electronics\", 700, 200, 4.7, 30),\n",
    "    (3, \"Tablet\", \"Electronics\", 300, 100, 4.2, 25),\n",
    "    (4, \"Refrigerator\", \"Appliances\", 1000, 20, 4.8, 40),\n",
    "    (5, \"Microwave\", \"Appliances\", 200, 150, 4.3, 15),\n",
    "    (6, \"T-Shirt\", \"Clothing\", 30, 500, 4.1, 11),\n",
    "    (7, \"Jeans\", \"Clothing\", 50, 300, 4.4, 31),\n",
    "    (8, \"Blender\", \"Appliances\", 100, 80, 4.5, 22),\n",
    "    (9, \"Smartwatch\", \"Electronics\", 250, 300, 4.6, 10),\n",
    "    (10, \"Sneakers\", \"Clothing\", 80, 400, 4.2, 13)\n",
    "]"
   ]
  },
  {
   "cell_type": "code",
   "execution_count": 31,
   "id": "583073ea",
   "metadata": {},
   "outputs": [],
   "source": [
    "df = spark.createDataFrame(data, cols)"
   ]
  },
  {
   "cell_type": "code",
   "execution_count": 32,
   "id": "58b9e408",
   "metadata": {},
   "outputs": [
    {
     "name": "stdout",
     "output_type": "stream",
     "text": [
      "Initial DataFrame\n",
      "+---------+------------+-----------+-----+-------------+------+------------+\n",
      "|ProductID| ProductName|   Category|Price|StockQuantity|Rating|QuantitySold|\n",
      "+---------+------------+-----------+-----+-------------+------+------------+\n",
      "|        1|      Laptop|Electronics| 1000|           50|   4.5|          20|\n",
      "|        2|  Smartphone|Electronics|  700|          200|   4.7|          30|\n",
      "|        3|      Tablet|Electronics|  300|          100|   4.2|          25|\n",
      "|        4|Refrigerator| Appliances| 1000|           20|   4.8|          40|\n",
      "|        5|   Microwave| Appliances|  200|          150|   4.3|          15|\n",
      "|        6|     T-Shirt|   Clothing|   30|          500|   4.1|          11|\n",
      "|        7|       Jeans|   Clothing|   50|          300|   4.4|          31|\n",
      "|        8|     Blender| Appliances|  100|           80|   4.5|          22|\n",
      "|        9|  Smartwatch|Electronics|  250|          300|   4.6|          10|\n",
      "|       10|    Sneakers|   Clothing|   80|          400|   4.2|          13|\n",
      "+---------+------------+-----------+-----+-------------+------+------------+\n",
      "\n"
     ]
    }
   ],
   "source": [
    "print(\"Initial DataFrame\")\n",
    "df.show()"
   ]
  },
  {
   "cell_type": "markdown",
   "id": "2dfbb70c",
   "metadata": {},
   "source": [
    "#### • Sort the DataFrame first by Price in descending order and then by Category in ascending order."
   ]
  },
  {
   "cell_type": "code",
   "execution_count": 33,
   "id": "7d6e0a2b",
   "metadata": {},
   "outputs": [],
   "source": [
    "sorted_df = df.orderBy(col(\"Price\").desc(), col(\"Category\"))"
   ]
  },
  {
   "cell_type": "code",
   "execution_count": 34,
   "id": "3e485c5c",
   "metadata": {},
   "outputs": [
    {
     "name": "stdout",
     "output_type": "stream",
     "text": [
      "Sorted DataFrame\n",
      "+---------+------------+-----------+-----+-------------+------+------------+\n",
      "|ProductID| ProductName|   Category|Price|StockQuantity|Rating|QuantitySold|\n",
      "+---------+------------+-----------+-----+-------------+------+------------+\n",
      "|        4|Refrigerator| Appliances| 1000|           20|   4.8|          40|\n",
      "|        1|      Laptop|Electronics| 1000|           50|   4.5|          20|\n",
      "|        2|  Smartphone|Electronics|  700|          200|   4.7|          30|\n",
      "|        3|      Tablet|Electronics|  300|          100|   4.2|          25|\n",
      "|        9|  Smartwatch|Electronics|  250|          300|   4.6|          10|\n",
      "|        5|   Microwave| Appliances|  200|          150|   4.3|          15|\n",
      "|        8|     Blender| Appliances|  100|           80|   4.5|          22|\n",
      "|       10|    Sneakers|   Clothing|   80|          400|   4.2|          13|\n",
      "|        7|       Jeans|   Clothing|   50|          300|   4.4|          31|\n",
      "|        6|     T-Shirt|   Clothing|   30|          500|   4.1|          11|\n",
      "+---------+------------+-----------+-----+-------------+------+------------+\n",
      "\n"
     ]
    }
   ],
   "source": [
    "print(\"Sorted DataFrame\")\n",
    "sorted_df.show()"
   ]
  },
  {
   "cell_type": "markdown",
   "id": "ace6a7a9",
   "metadata": {},
   "source": [
    "#### • Find the total sales amount for each product by category."
   ]
  },
  {
   "cell_type": "code",
   "execution_count": 36,
   "id": "3a98b099",
   "metadata": {},
   "outputs": [],
   "source": [
    "total_sales_by_category = df.groupBy(\"Category\", \"ProductName\").agg(sum(col(\"Price\")*col(\"QuantitySold\")).alias(\"Total Sales\"))"
   ]
  },
  {
   "cell_type": "code",
   "execution_count": 37,
   "id": "8a6de268",
   "metadata": {},
   "outputs": [
    {
     "name": "stdout",
     "output_type": "stream",
     "text": [
      "Total Sales Amount for each Product by Category.\n",
      "+-----------+------------+-----------+\n",
      "|   Category| ProductName|Total Sales|\n",
      "+-----------+------------+-----------+\n",
      "|Electronics|      Laptop|      20000|\n",
      "|Electronics|  Smartphone|      21000|\n",
      "|Electronics|      Tablet|       7500|\n",
      "| Appliances|   Microwave|       3000|\n",
      "| Appliances|Refrigerator|      40000|\n",
      "|   Clothing|     T-Shirt|        330|\n",
      "|   Clothing|       Jeans|       1550|\n",
      "| Appliances|     Blender|       2200|\n",
      "|Electronics|  Smartwatch|       2500|\n",
      "|   Clothing|    Sneakers|       1040|\n",
      "+-----------+------------+-----------+\n",
      "\n"
     ]
    }
   ],
   "source": [
    "print(\"Total Sales Amount for each Product by Category.\")\n",
    "total_sales_by_category.show()"
   ]
  },
  {
   "cell_type": "markdown",
   "id": "a68d4d59",
   "metadata": {},
   "source": [
    "#### • Find the total sales amount and the total quantity sold for each product."
   ]
  },
  {
   "cell_type": "code",
   "execution_count": 38,
   "id": "f798cea1",
   "metadata": {},
   "outputs": [],
   "source": [
    "total_sales_and_quantity = df.groupBy(\"ProductName\").agg(sum(col(\"Price\")*col(\"QuantitySold\")).alias(\"Total Sales\"), sum(col(\"QuantitySold\")).alias(\"Total Quantity Sold\"))"
   ]
  },
  {
   "cell_type": "code",
   "execution_count": 39,
   "id": "662811dc",
   "metadata": {},
   "outputs": [
    {
     "name": "stdout",
     "output_type": "stream",
     "text": [
      "Total Sales Amount and the Total Quantity Sold for each Product\n",
      "+------------+-----------+-------------------+\n",
      "| ProductName|Total Sales|Total Quantity Sold|\n",
      "+------------+-----------+-------------------+\n",
      "|      Laptop|      20000|                 20|\n",
      "|  Smartphone|      21000|                 30|\n",
      "|      Tablet|       7500|                 25|\n",
      "|Refrigerator|      40000|                 40|\n",
      "|   Microwave|       3000|                 15|\n",
      "|     T-Shirt|        330|                 11|\n",
      "|       Jeans|       1550|                 31|\n",
      "|     Blender|       2200|                 22|\n",
      "|    Sneakers|       1040|                 13|\n",
      "|  Smartwatch|       2500|                 10|\n",
      "+------------+-----------+-------------------+\n",
      "\n"
     ]
    }
   ],
   "source": [
    "print(\"Total Sales Amount and the Total Quantity Sold for each Product\")\n",
    "total_sales_and_quantity.show()"
   ]
  },
  {
   "cell_type": "code",
   "execution_count": 40,
   "id": "95cb5be4",
   "metadata": {},
   "outputs": [],
   "source": [
    "spark.stop()"
   ]
  }
 ],
 "metadata": {
  "kernelspec": {
   "display_name": "Python 3 (ipykernel)",
   "language": "python",
   "name": "python3"
  },
  "language_info": {
   "codemirror_mode": {
    "name": "ipython",
    "version": 3
   },
   "file_extension": ".py",
   "mimetype": "text/x-python",
   "name": "python",
   "nbconvert_exporter": "python",
   "pygments_lexer": "ipython3",
   "version": "3.10.1"
  }
 },
 "nbformat": 4,
 "nbformat_minor": 5
}
